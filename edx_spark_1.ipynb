{
 "cells": [
  {
   "cell_type": "markdown",
   "metadata": {},
   "source": [
    "\n"
   ]
  },
  {
   "cell_type": "markdown",
   "metadata": {},
   "source": [
    "![Spark Logo](http://spark-mooc.github.io/web-assets/images/ta_Spark-logo-small.png)\n",
    "![SSU AILAB Logo](http://ailab.ssu.ac.kr/rb/layouts/default/image/common/logo.png)"
   ]
  },
  {
   "cell_type": "markdown",
   "metadata": {},
   "source": [
    "* ### Spark Context import 확인"
   ]
  },
  {
   "cell_type": "code",
   "execution_count": 3,
   "metadata": {
    "collapsed": false
   },
   "outputs": [
    {
     "data": {
      "text/plain": [
       "pyspark.context.SparkContext"
      ]
     },
     "execution_count": 3,
     "metadata": {},
     "output_type": "execute_result"
    }
   ],
   "source": [
    "type(sc)"
   ]
  },
  {
   "cell_type": "code",
   "execution_count": 41,
   "metadata": {
    "collapsed": false
   },
   "outputs": [
    {
     "data": {
      "text/plain": [
       "{'_accumulatorServer': <pyspark.accumulators.AccumulatorServer instance at 0x113925098>,\n",
       " '_batchSize': 0,\n",
       " '_callsite': CallSite(function='<module>', file='/Users/Namgee/anaconda/lib/python2.7/site-packages/IPython/utils/py3compat.py', linenum=288),\n",
       " '_conf': <pyspark.conf.SparkConf at 0x11391cf10>,\n",
       " '_javaAccumulator': JavaObject id=o12,\n",
       " '_jsc': JavaObject id=o9,\n",
       " '_pickled_broadcast_vars': set(),\n",
       " '_python_includes': [],\n",
       " '_temp_dir': u'/private/var/folders/vp/xk17mlgj6r90566s8v5k_rs80000gn/T/spark-3778e2f5-0a24-41b1-b373-1e9bc6864317/pyspark-f1af9738-dae5-4bd1-9292-d69e0e84d74f',\n",
       " '_unbatched_serializer': PickleSerializer(),\n",
       " 'appName': u'PySparkShell',\n",
       " 'environment': {},\n",
       " 'master': u'local[*]',\n",
       " 'profiler_collector': None,\n",
       " 'pythonExec': 'python2.7',\n",
       " 'pythonVer': '2.7',\n",
       " 'serializer': AutoBatchedSerializer(PickleSerializer()),\n",
       " 'sparkHome': None}"
      ]
     },
     "execution_count": 41,
     "metadata": {},
     "output_type": "execute_result"
    }
   ],
   "source": [
    "sc.__dict__"
   ]
  },
  {
   "cell_type": "code",
   "execution_count": 42,
   "metadata": {
    "collapsed": true
   },
   "outputs": [],
   "source": [
    "sc.appName = \"TestApp\""
   ]
  },
  {
   "cell_type": "code",
   "execution_count": 43,
   "metadata": {
    "collapsed": false
   },
   "outputs": [
    {
     "data": {
      "text/plain": [
       "'TestApp'"
      ]
     },
     "execution_count": 43,
     "metadata": {},
     "output_type": "execute_result"
    }
   ],
   "source": [
    "sc.appName"
   ]
  },
  {
   "cell_type": "markdown",
   "metadata": {},
   "source": [
    "* ### 파일로 부터 Spark RDD 생성\n",
    "(4개의 파티션 생성)"
   ]
  },
  {
   "cell_type": "code",
   "execution_count": 12,
   "metadata": {
    "collapsed": true
   },
   "outputs": [],
   "source": [
    "data = sc.textFile(\"/Users/MJ/Desktop/KBO_Teams.txt\", 4)"
   ]
  },
  {
   "cell_type": "markdown",
   "metadata": {},
   "source": [
    "* ### 파티션별 데이터 확인"
   ]
  },
  {
   "cell_type": "code",
   "execution_count": 13,
   "metadata": {
    "collapsed": false
   },
   "outputs": [
    {
     "data": {
      "text/plain": [
       "[[u'doosan$144$79$65$0$0.370$0.435',\n",
       "  u'samsung$144$88$56$0$0.378$0.469',\n",
       "  u'nc$144$84$57$3$0.367$0.455'],\n",
       " [u'nexen$144$78$65$1$0.372$0.486', u'sk$144$69$73$2$0.349$0.410'],\n",
       " [u'hanhwa$144$68$76$0$0.360$0.404',\n",
       "  u'kia$144$67$77$0$0.326$0.392',\n",
       "  u'lotte$144$66$77$1$0.356$0.446'],\n",
       " [u'lg$144$64$78$2$0.339$0.399', u'kt$144$52$91$1$0.345$0.402']]"
      ]
     },
     "execution_count": 13,
     "metadata": {},
     "output_type": "execute_result"
    }
   ],
   "source": [
    "data.glom().collect()"
   ]
  },
  {
   "cell_type": "markdown",
   "metadata": {},
   "source": [
    "* ### 파티션의 개수를 6개로 변경후 확인"
   ]
  },
  {
   "cell_type": "code",
   "execution_count": 14,
   "metadata": {
    "collapsed": true
   },
   "outputs": [],
   "source": [
    "data1 = data.repartition(6)"
   ]
  },
  {
   "cell_type": "code",
   "execution_count": 15,
   "metadata": {
    "collapsed": false
   },
   "outputs": [
    {
     "data": {
      "text/plain": [
       "[[u'kia$144$67$77$0$0.326$0.392'],\n",
       " [u'doosan$144$79$65$0$0.370$0.435', u'lotte$144$66$77$1$0.356$0.446'],\n",
       " [u'samsung$144$88$56$0$0.378$0.469'],\n",
       " [u'nc$144$84$57$3$0.367$0.455', u'lg$144$64$78$2$0.339$0.399'],\n",
       " [u'nexen$144$78$65$1$0.372$0.486', u'kt$144$52$91$1$0.345$0.402'],\n",
       " [u'sk$144$69$73$2$0.349$0.410', u'hanhwa$144$68$76$0$0.360$0.404']]"
      ]
     },
     "execution_count": 15,
     "metadata": {},
     "output_type": "execute_result"
    }
   ],
   "source": [
    "data1.glom().collect()"
   ]
  },
  {
   "cell_type": "code",
   "execution_count": 28,
   "metadata": {
    "collapsed": false
   },
   "outputs": [
    {
     "name": "stdout",
     "output_type": "stream",
     "text": [
      "6\n"
     ]
    }
   ],
   "source": [
    "print data1.getNumPartitions()"
   ]
  },
  {
   "cell_type": "markdown",
   "metadata": {},
   "source": [
    "* ### xrange, range 차이점 (python 내용)\n",
    "(xrange 는 lazy evaluation)"
   ]
  },
  {
   "cell_type": "code",
   "execution_count": 32,
   "metadata": {
    "collapsed": true
   },
   "outputs": [],
   "source": [
    "dataXrange = xrange(1,10)"
   ]
  },
  {
   "cell_type": "code",
   "execution_count": 33,
   "metadata": {
    "collapsed": false
   },
   "outputs": [
    {
     "data": {
      "text/plain": [
       "xrange"
      ]
     },
     "execution_count": 33,
     "metadata": {},
     "output_type": "execute_result"
    }
   ],
   "source": [
    "type(dataXrange)"
   ]
  },
  {
   "cell_type": "code",
   "execution_count": 48,
   "metadata": {
    "collapsed": true
   },
   "outputs": [],
   "source": [
    "dataRange = range(11,21)"
   ]
  },
  {
   "cell_type": "code",
   "execution_count": 49,
   "metadata": {
    "collapsed": false
   },
   "outputs": [
    {
     "data": {
      "text/plain": [
       "list"
      ]
     },
     "execution_count": 49,
     "metadata": {},
     "output_type": "execute_result"
    }
   ],
   "source": [
    "type(dataRange)"
   ]
  },
  {
   "cell_type": "code",
   "execution_count": 50,
   "metadata": {
    "collapsed": false
   },
   "outputs": [
    {
     "data": {
      "text/plain": [
       "xrange(1, 10)"
      ]
     },
     "execution_count": 50,
     "metadata": {},
     "output_type": "execute_result"
    }
   ],
   "source": [
    "dataXrange"
   ]
  },
  {
   "cell_type": "code",
   "execution_count": 51,
   "metadata": {
    "collapsed": false
   },
   "outputs": [
    {
     "data": {
      "text/plain": [
       "[11, 12, 13, 14, 15, 16, 17, 18, 19, 20]"
      ]
     },
     "execution_count": 51,
     "metadata": {},
     "output_type": "execute_result"
    }
   ],
   "source": [
    "dataRange"
   ]
  },
  {
   "cell_type": "markdown",
   "metadata": {},
   "source": [
    "* ### 객체로 부터 RDD 생성"
   ]
  },
  {
   "cell_type": "code",
   "execution_count": 52,
   "metadata": {
    "collapsed": true
   },
   "outputs": [],
   "source": [
    "xrangeRDD = sc.parallelize(dataXrange)"
   ]
  },
  {
   "cell_type": "code",
   "execution_count": 53,
   "metadata": {
    "collapsed": true
   },
   "outputs": [],
   "source": [
    "rangeRDD = sc.parallelize(dataRange)"
   ]
  },
  {
   "cell_type": "markdown",
   "metadata": {},
   "source": [
    "* ### toDebugString 를 통한 RDD 의 lineage 확인"
   ]
  },
  {
   "cell_type": "code",
   "execution_count": 54,
   "metadata": {
    "collapsed": false
   },
   "outputs": [
    {
     "data": {
      "text/plain": [
       "'(8) PythonRDD[28] at RDD at PythonRDD.scala:43 []\\n |  ParallelCollectionRDD[26] at parallelize at PythonRDD.scala:423 []'"
      ]
     },
     "execution_count": 54,
     "metadata": {},
     "output_type": "execute_result"
    }
   ],
   "source": [
    "xrangeRDD.toDebugString()"
   ]
  },
  {
   "cell_type": "code",
   "execution_count": 55,
   "metadata": {
    "collapsed": false
   },
   "outputs": [
    {
     "data": {
      "text/plain": [
       "'(8) ParallelCollectionRDD[27] at parallelize at PythonRDD.scala:423 []'"
      ]
     },
     "execution_count": 55,
     "metadata": {},
     "output_type": "execute_result"
    }
   ],
   "source": [
    "rangeRDD.toDebugString()"
   ]
  },
  {
   "cell_type": "markdown",
   "metadata": {},
   "source": [
    "* ### xrange, range 타입에 따라 생성되는 RDD 의 타입 확인"
   ]
  },
  {
   "cell_type": "code",
   "execution_count": 56,
   "metadata": {
    "collapsed": false
   },
   "outputs": [
    {
     "name": "stdout",
     "output_type": "stream",
     "text": [
      "type of RangeRDD: <class 'pyspark.rdd.PipelinedRDD'>\n"
     ]
    }
   ],
   "source": [
    "print 'type of RangeRDD: {0}'.format(type(xrangeRDD))"
   ]
  },
  {
   "cell_type": "code",
   "execution_count": 57,
   "metadata": {
    "collapsed": false
   },
   "outputs": [
    {
     "name": "stdout",
     "output_type": "stream",
     "text": [
      "type of XrangeRDD: <class 'pyspark.rdd.RDD'>\n"
     ]
    }
   ],
   "source": [
    "print 'type of XrangeRDD: {0}'.format(type(rangeRDD))"
   ]
  },
  {
   "cell_type": "code",
   "execution_count": 58,
   "metadata": {
    "collapsed": false
   },
   "outputs": [
    {
     "name": "stdout",
     "output_type": "stream",
     "text": [
      "id : 27\n",
      "id : 28\n"
     ]
    }
   ],
   "source": [
    "print 'id : {0}'.format(rangeRDD.id())\n",
    "print 'id : {0}'.format(xrangeRDD.id())"
   ]
  },
  {
   "cell_type": "markdown",
   "metadata": {},
   "source": [
    "* ### function 을 정의하고 Spark 의 map 함수 적용"
   ]
  },
  {
   "cell_type": "code",
   "execution_count": 71,
   "metadata": {
    "collapsed": false
   },
   "outputs": [
    {
     "name": "stdout",
     "output_type": "stream",
     "text": [
      "원본 데이터 :  [[1], [2], [3], [4], [5], [6], [7], [8, 9]]\n",
      "sub 데이터 :  [[0], [1], [2], [3], [4], [5], [6], [7, 8]]\n",
      "lineage :  (8) PythonRDD[49] at RDD at PythonRDD.scala:43 []\n",
      " |  ParallelCollectionRDD[26] at parallelize at PythonRDD.scala:423 []\n"
     ]
    }
   ],
   "source": [
    "def sub(value):\n",
    "    return (value - 1)\n",
    "\n",
    "subRDD = xrangeRDD.map(sub)\n",
    "\n",
    "print \"원본 데이터 : \", xrangeRDD.glom().collect()\n",
    "print \"sub 데이터 : \",subRDD.glom().collect()\n",
    "print \"lineage : \", subRDD.toDebugString()"
   ]
  },
  {
   "cell_type": "markdown",
   "metadata": {},
   "source": [
    "* ### Spark의 filter 함수 적용 과 lambda 사용법"
   ]
  },
  {
   "cell_type": "code",
   "execution_count": 73,
   "metadata": {
    "collapsed": false
   },
   "outputs": [
    {
     "name": "stdout",
     "output_type": "stream",
     "text": [
      "sub 데이터 :  [[0], [1], [2], [3], [4], [5], [6], [7, 8]]\n",
      "Partition별 5보다 작은 데이터 [[0], [1], [2], [3], [4], [], [], []]\n",
      "Partition별 5보다 큰 데이터 [[], [], [], [], [], [], [6], [7, 8]]\n",
      "filteredRDD Partition 개수 :  8\n",
      "filteredRDD2 Partition 개수 :  8\n"
     ]
    }
   ],
   "source": [
    "def five(value):\n",
    "    if(value < 5):\n",
    "        return True\n",
    "    else:\n",
    "        return False\n",
    "\n",
    "filteredRDD = subRDD.filter(five)\n",
    "filteredRDD2 = subRDD.filter(lambda x: x > 5)\n",
    "\n",
    "print \"sub 데이터 : \", subRDD.glom().collect()\n",
    "print \"Partition별 5보다 작은 데이터\", filteredRDD.glom().collect()\n",
    "print \"Partition별 5보다 큰 데이터\", filteredRDD2.glom().collect()\n",
    "print \"filteredRDD Partition 개수 : \", filteredRDD.getNumPartitions()\n",
    "print \"filteredRDD2 Partition 개수 : \", filteredRDD2.getNumPartitions()"
   ]
  },
  {
   "cell_type": "markdown",
   "metadata": {},
   "source": [
    "* ### RDD의 first 함수는 첫번 째 partition 의 첫번 째 데이터를 Return, take(1)은 first() 와 동일, takeOrdered 는 오름차순 정렬 후 Return"
   ]
  },
  {
   "cell_type": "code",
   "execution_count": 75,
   "metadata": {
    "collapsed": false
   },
   "outputs": [
    {
     "name": "stdout",
     "output_type": "stream",
     "text": [
      "[[(u'hanhwa$144$68$76$0$0.360$0.404', 1)], [(u'nc$144$84$57$3$0.367$0.455', 1), (u'sk$144$69$73$2$0.349$0.410', 1)], [(u'samsung$144$88$56$0$0.378$0.469', 1), (u'kt$144$52$91$1$0.345$0.402', 1), (u'doosan$144$79$65$0$0.370$0.435', 1)], [(u'nexen$144$78$65$1$0.372$0.486', 1), (u'kia$144$67$77$0$0.326$0.392', 1), (u'lg$144$64$78$2$0.339$0.399', 1), (u'lotte$144$66$77$1$0.356$0.446', 1)]]\n",
      "(u'hanhwa$144$68$76$0$0.360$0.404', 1)\n",
      "[(u'hanhwa$144$68$76$0$0.360$0.404', 1), (u'nc$144$84$57$3$0.367$0.455', 1), (u'sk$144$69$73$2$0.349$0.410', 1), (u'samsung$144$88$56$0$0.378$0.469', 1), (u'kt$144$52$91$1$0.345$0.402', 1), (u'doosan$144$79$65$0$0.370$0.435', 1)]\n",
      "[(u'doosan$144$79$65$0$0.370$0.435', 1), (u'hanhwa$144$68$76$0$0.360$0.404', 1), (u'kia$144$67$77$0$0.326$0.392', 1)]\n",
      "[(u'sk$144$69$73$2$0.349$0.410', 1), (u'samsung$144$88$56$0$0.378$0.469', 1), (u'nexen$144$78$65$1$0.372$0.486', 1), (u'nc$144$84$57$3$0.367$0.455', 1), (u'lotte$144$66$77$1$0.356$0.446', 1)]\n"
     ]
    }
   ],
   "source": [
    "text = sc.textFile(\"/Users/MJ/Desktop/KBO_Teams.txt\", 4) \\\n",
    ".flatMap(lambda line: line.split()).map(lambda word: (word, 1)) \\\n",
    ".reduceByKey(lambda v1, v2: v1+v2)\n",
    "print text.glom().collect()\n",
    "print text.first() # First Partition의 첫번째 Element.\n",
    "print text.take(6)\n",
    "print text.takeOrdered(3) # Collect Action 후에 작은 Element 순으로.\n",
    "print text.top(5) #Collect Action 후에 큰 Element 순으로."
   ]
  },
  {
   "cell_type": "markdown",
   "metadata": {},
   "source": [
    "* ### RDD의 reduce 함수를 적용(substract 를 사용시 주의)\n",
    "reduce 는 function 이 associative 하고 commutative 해야한다."
   ]
  },
  {
   "cell_type": "code",
   "execution_count": 96,
   "metadata": {
    "collapsed": false
   },
   "outputs": [
    {
     "name": "stdout",
     "output_type": "stream",
     "text": [
      "[[0], [1], [2], [3], [4], [], [], []]\n",
      "reduce(sub) :  -10\n",
      "[[3, 4], [0, 1], [2]]\n",
      "reduce(sub) :  -2\n",
      "reduce(sum) :  10\n",
      "reduce(sum) :  10\n"
     ]
    }
   ],
   "source": [
    "from operator import add\n",
    "\n",
    "print filteredRDD.glom().collect()\n",
    "# - 는 associative 하지만, commutative하지 못하다.\n",
    "print \"reduce(sub) : \", filteredRDD.reduce(lambda a, b: a - b)\n",
    "\n",
    "# partition에 따라 sub 함수의 값이 달라짐(commutative하지 못하기 때문)\n",
    "rePart_FilteredRDD = filteredRDD.repartition(3)\n",
    "print rePart_FilteredRDD.glom().collect()\n",
    "print \"reduce(sub) : \", rePart_FilteredRDD.reduce(lambda a, b: a - b)\n",
    "\n",
    "# sum 은 partition 을 나눠도 associative 하고 commutative 하기 때문에 결과 같음\n",
    "print \"reduce(sum) : \", filteredRDD.reduce(lambda a, b: a + b)\n",
    "print \"reduce(sum) : \", filteredRDD.repartition(3).reduce(lambda a, b: a + b)"
   ]
  },
  {
   "cell_type": "markdown",
   "metadata": {},
   "source": [
    "* ### takeSample 함수를 사용하여 샘플 데이터 추출\n",
    "(withReplacement 는 중복 허용 여부, num 는 샘플 개수, seed 를 주면 항상 같은 샘플 추출)"
   ]
  },
  {
   "cell_type": "code",
   "execution_count": 95,
   "metadata": {
    "collapsed": false
   },
   "outputs": [
    {
     "name": "stdout",
     "output_type": "stream",
     "text": [
      "[0, 3, 2, 3, 0, 0]\n",
      "[1, 3, 2, 4, 0]\n",
      "[2, 0, 1, 4, 3]\n",
      "[4, 2, 3, 4, 3, 1]\n"
     ]
    }
   ],
   "source": [
    "print filteredRDD.takeSample(withReplacement=True, num=6)\n",
    "print filteredRDD.takeSample(withReplacement=False, num=6)\n",
    "print filteredRDD.takeSample(withReplacement=False, num=6, seed=500)\n",
    "print filteredRDD.takeSample(withReplacement=True, num=6, seed=500)"
   ]
  },
  {
   "cell_type": "markdown",
   "metadata": {},
   "source": [
    "* ### Map 함수와 flatMap 차이점"
   ]
  },
  {
   "cell_type": "code",
   "execution_count": 139,
   "metadata": {
    "collapsed": false
   },
   "outputs": [
    {
     "name": "stdout",
     "output_type": "stream",
     "text": [
      "[('cat', 'cats'), ('elephant', 'elephants'), ('rat', 'rats'), ('rat', 'rats'), ('cat', 'cats')]\n",
      "['cat', 'cats', 'elephant', 'elephants', 'rat', 'rats', 'rat', 'rats', 'cat', 'cats']\n",
      "5\n",
      "10\n"
     ]
    }
   ],
   "source": [
    "wordsList = ['cat', 'elephant', 'rat', 'rat', 'cat']\n",
    "wordsRDD = sc.parallelize(wordsList,4)\n",
    "\n",
    "sigularAndPluralWordsRDDMap = wordsRDD.map(lambda x: (x, x + 's'))\n",
    "sigularAndPluralWordsRDD = wordsRDD.flatMap(lambda x: (x, x + 's'))\n",
    "\n",
    "print sigularAndPluralWordsRDDMap.collect()\n",
    "print sigularAndPluralWordsRDD.collect()\n",
    "print sigularAndPluralWordsRDDMap.count()\n",
    "print sigularAndPluralWordsRDD.count()"
   ]
  },
  {
   "cell_type": "code",
   "execution_count": 107,
   "metadata": {
    "collapsed": false
   },
   "outputs": [
    {
     "name": "stdout",
     "output_type": "stream",
     "text": [
      "[[1], [1, 2], [1, 2, 3]]\n",
      "[1, 1, 2, 1, 2, 3]\n"
     ]
    }
   ],
   "source": [
    "simpleRDD = sc.parallelize([2,3,4])\n",
    "print simpleRDD.map(lambda x: range(1, x)).collect()\n",
    "print simpleRDD.flatMap(lambda x: range(1, x)).collect()\n"
   ]
  },
  {
   "cell_type": "markdown",
   "metadata": {},
   "source": [
    "* ### reduceByKey, groupByKey, countByValue 함수\n",
    "(각각의 return type 숙지, groupByKey 사용법 등 주의)"
   ]
  },
  {
   "cell_type": "markdown",
   "metadata": {},
   "source": [
    "![reduceByKey() figure](http://spark-mooc.github.io/web-assets/images/reduce_by.png)\n",
    "![groupByKey() figure](http://spark-mooc.github.io/web-assets/images/group_by.png)"
   ]
  },
  {
   "cell_type": "markdown",
   "metadata": {},
   "source": [
    "#### 1) pairRDD 타입에서의 groupByKey, reduceByKey, mapValues 사용법"
   ]
  },
  {
   "cell_type": "code",
   "execution_count": 142,
   "metadata": {
    "collapsed": false
   },
   "outputs": [
    {
     "name": "stdout",
     "output_type": "stream",
     "text": [
      "[('a', [1, 2]), ('b', [1])]\n",
      "[('a', 3), ('b', 1)]\n",
      "[('a', 3), ('b', 1)]\n",
      "[('a', 3), ('b', 1)]\n"
     ]
    }
   ],
   "source": [
    "pairRDD = sc.parallelize([('a', 1), ('a', 2), ('b', 1)])\n",
    "# mapValues only used to improve format for printing\n",
    "print pairRDD.groupByKey().mapValues(lambda x: list(x)).collect()\n",
    "\n",
    "# Different ways to sum by key\n",
    "print pairRDD.groupByKey().map(lambda (k, v): (k, sum(v))).collect()\n",
    "# Using mapValues, which is recommended when they key doesn't change\n",
    "print pairRDD.groupByKey().mapValues(lambda x: sum(x)).collect()\n",
    "# reduceByKey is more efficient / scalable\n",
    "print pairRDD.reduceByKey(add).collect()"
   ]
  },
  {
   "cell_type": "markdown",
   "metadata": {},
   "source": [
    "#### 2) WordCount 비교"
   ]
  },
  {
   "cell_type": "code",
   "execution_count": 143,
   "metadata": {
    "collapsed": false
   },
   "outputs": [
    {
     "name": "stdout",
     "output_type": "stream",
     "text": [
      "reduceByKey :  [('i', 2), ('boy', 1), ('am', 1)]\n",
      "groupByKey :  [('i', 2), ('boy', 1), ('am', 1)]\n",
      "countByValue :  defaultdict(<type 'int'>, {'i': 2, 'boy': 1, 'am': 1})\n",
      "i 가 몇번? :  [2] 번\n"
     ]
    }
   ],
   "source": [
    "repetitiveRDD = sc.parallelize([\"i\",\"am\", \"boy\", \"i\"])\n",
    "\n",
    "text1 = repetitiveRDD \\\n",
    ".flatMap(lambda line: line.split()).map(lambda word: (word, 1)) \\\n",
    ".reduceByKey(lambda v1, v2: v1 + v2).collect() # collectAsMap() 사용 시 dictionary 형태로 return\n",
    "\n",
    "print \"reduceByKey : \", text1\n",
    "\n",
    "text2 = repetitiveRDD \\\n",
    ".flatMap(lambda line: line.split()).map(lambda word: (word, 1)) \\\n",
    ".groupByKey() \\\n",
    ".map(lambda (k, v): (k, sum(v))).collect() # groupByKey는 (key, resultIterable) 형태\n",
    "\n",
    "print \"groupByKey : \", text2\n",
    "\n",
    "# text3 의 countByValue 는 dictionary 형태를 return\n",
    "text3 = repetitiveRDD \\\n",
    ".flatMap(lambda line: line.split()).countByValue()\n",
    "\n",
    "print \"countByValue : \", text3\n",
    "\n",
    "print \"i 가 몇번? : \", [count for word, count in text2 if word == 'i'], \"번\""
   ]
  },
  {
   "cell_type": "markdown",
   "metadata": {},
   "source": [
    "* ### mapPartitions, mapPartitionsWithIndex 사용법\n",
    "(mapPartitions : partition 끼리만 f 적용,\n",
    "mapPartitionsWithIndex : partition 끼리만 f 적용하며 추가로 index 값을 생성해 준다.)"
   ]
  },
  {
   "cell_type": "markdown",
   "metadata": {},
   "source": [
    "#### 1) join 예제"
   ]
  },
  {
   "cell_type": "code",
   "execution_count": 122,
   "metadata": {
    "collapsed": false
   },
   "outputs": [
    {
     "name": "stdout",
     "output_type": "stream",
     "text": [
      "a-b-c\n"
     ]
    }
   ],
   "source": [
    "s = \"-\";\n",
    "seq = (\"a\", \"b\", \"c\"); # This is sequence of strings.\n",
    "print s.join( list(seq) )"
   ]
  },
  {
   "cell_type": "code",
   "execution_count": 147,
   "metadata": {
    "collapsed": false
   },
   "outputs": [
    {
     "name": "stdout",
     "output_type": "stream",
     "text": [
      "[['cat'], ['elephant'], ['rat'], ['rat', 'cat']]\n",
      "[['cat'], ['elephant'], ['rat'], ['rat, cat']]\n",
      "[[0, ['cat']], [1, ['elephant']], [2, ['rat']], [3, ['rat', 'cat']]]\n",
      "[[0, ['cat']], [1, ['elephant']], [2, ['rat']], [3, ['rat, cat']]]\n"
     ]
    }
   ],
   "source": [
    "print wordsRDD.glom().collect()\n",
    "itemRDD = wordsRDD.mapPartitions(lambda iterator: [', '.join(iterator)])\n",
    "print itemRDD.glom().collect() # 4번째 partition의 'rat'과 'cat' 만 join\n",
    "\n",
    "itemByPartRDD = wordsRDD.mapPartitionsWithIndex(lambda index, iterator: \\\n",
    "                                                (index, list(iterator)))\n",
    "\n",
    "itemByPartRDD1 = wordsRDD.mapPartitionsWithIndex(lambda index, iterator: \\\n",
    "                                                (index, [', '.join(iterator)]))\n",
    "print itemByPartRDD.glom().collect()\n",
    "print itemByPartRDD1.glom().collect()"
   ]
  },
  {
   "cell_type": "code",
   "execution_count": null,
   "metadata": {
    "collapsed": true
   },
   "outputs": [],
   "source": []
  }
 ],
 "metadata": {
  "kernelspec": {
   "display_name": "Python 2",
   "language": "python",
   "name": "python2"
  },
  "language_info": {
   "codemirror_mode": {
    "name": "ipython",
    "version": 2
   },
   "file_extension": ".py",
   "mimetype": "text/x-python",
   "name": "python",
   "nbconvert_exporter": "python",
   "pygments_lexer": "ipython2",
   "version": "2.7.11"
  }
 },
 "nbformat": 4,
 "nbformat_minor": 0
}
